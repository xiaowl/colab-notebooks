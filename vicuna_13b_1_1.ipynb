{
  "nbformat": 4,
  "nbformat_minor": 0,
  "metadata": {
    "colab": {
      "provenance": [],
      "machine_shape": "hm",
      "authorship_tag": "ABX9TyMb0eVLkL6/Pu5CAiqCFh7i",
      "include_colab_link": true
    },
    "kernelspec": {
      "name": "python3",
      "display_name": "Python 3"
    },
    "language_info": {
      "name": "python"
    },
    "accelerator": "GPU",
    "gpuClass": "premium",
    "widgets": {
      "application/vnd.jupyter.widget-state+json": {
        "b3fd98b9a4b34008b9ab0f1d8ec45038": {
          "model_module": "@jupyter-widgets/controls",
          "model_name": "HBoxModel",
          "model_module_version": "1.5.0",
          "state": {
            "_dom_classes": [],
            "_model_module": "@jupyter-widgets/controls",
            "_model_module_version": "1.5.0",
            "_model_name": "HBoxModel",
            "_view_count": null,
            "_view_module": "@jupyter-widgets/controls",
            "_view_module_version": "1.5.0",
            "_view_name": "HBoxView",
            "box_style": "",
            "children": [
              "IPY_MODEL_ed66d4cb287f4f42867182b92eb4afa4",
              "IPY_MODEL_f4b23ac4ee4049e887483d866670556d",
              "IPY_MODEL_f658ee0ac50b461cb48cdce21d2ca6f6"
            ],
            "layout": "IPY_MODEL_0e07d8a6d75d44bbaf7452db2195c765"
          }
        },
        "ed66d4cb287f4f42867182b92eb4afa4": {
          "model_module": "@jupyter-widgets/controls",
          "model_name": "HTMLModel",
          "model_module_version": "1.5.0",
          "state": {
            "_dom_classes": [],
            "_model_module": "@jupyter-widgets/controls",
            "_model_module_version": "1.5.0",
            "_model_name": "HTMLModel",
            "_view_count": null,
            "_view_module": "@jupyter-widgets/controls",
            "_view_module_version": "1.5.0",
            "_view_name": "HTMLView",
            "description": "",
            "description_tooltip": null,
            "layout": "IPY_MODEL_4b08b09173214dd3a159e544aa0111ec",
            "placeholder": "​",
            "style": "IPY_MODEL_7c464f889cb34620a918a9edb67142c4",
            "value": "Loading checkpoint shards: 100%"
          }
        },
        "f4b23ac4ee4049e887483d866670556d": {
          "model_module": "@jupyter-widgets/controls",
          "model_name": "FloatProgressModel",
          "model_module_version": "1.5.0",
          "state": {
            "_dom_classes": [],
            "_model_module": "@jupyter-widgets/controls",
            "_model_module_version": "1.5.0",
            "_model_name": "FloatProgressModel",
            "_view_count": null,
            "_view_module": "@jupyter-widgets/controls",
            "_view_module_version": "1.5.0",
            "_view_name": "ProgressView",
            "bar_style": "success",
            "description": "",
            "description_tooltip": null,
            "layout": "IPY_MODEL_fe8ca390ab0e44578c9318d24dbaa276",
            "max": 3,
            "min": 0,
            "orientation": "horizontal",
            "style": "IPY_MODEL_e901cd628bdc4f919a0819c60d2b9996",
            "value": 3
          }
        },
        "f658ee0ac50b461cb48cdce21d2ca6f6": {
          "model_module": "@jupyter-widgets/controls",
          "model_name": "HTMLModel",
          "model_module_version": "1.5.0",
          "state": {
            "_dom_classes": [],
            "_model_module": "@jupyter-widgets/controls",
            "_model_module_version": "1.5.0",
            "_model_name": "HTMLModel",
            "_view_count": null,
            "_view_module": "@jupyter-widgets/controls",
            "_view_module_version": "1.5.0",
            "_view_name": "HTMLView",
            "description": "",
            "description_tooltip": null,
            "layout": "IPY_MODEL_f8bce916fcf642b49306ce6698a774fb",
            "placeholder": "​",
            "style": "IPY_MODEL_3e11f8218a34477097f5ff168b3d5b19",
            "value": " 3/3 [00:15&lt;00:00,  4.87s/it]"
          }
        },
        "0e07d8a6d75d44bbaf7452db2195c765": {
          "model_module": "@jupyter-widgets/base",
          "model_name": "LayoutModel",
          "model_module_version": "1.2.0",
          "state": {
            "_model_module": "@jupyter-widgets/base",
            "_model_module_version": "1.2.0",
            "_model_name": "LayoutModel",
            "_view_count": null,
            "_view_module": "@jupyter-widgets/base",
            "_view_module_version": "1.2.0",
            "_view_name": "LayoutView",
            "align_content": null,
            "align_items": null,
            "align_self": null,
            "border": null,
            "bottom": null,
            "display": null,
            "flex": null,
            "flex_flow": null,
            "grid_area": null,
            "grid_auto_columns": null,
            "grid_auto_flow": null,
            "grid_auto_rows": null,
            "grid_column": null,
            "grid_gap": null,
            "grid_row": null,
            "grid_template_areas": null,
            "grid_template_columns": null,
            "grid_template_rows": null,
            "height": null,
            "justify_content": null,
            "justify_items": null,
            "left": null,
            "margin": null,
            "max_height": null,
            "max_width": null,
            "min_height": null,
            "min_width": null,
            "object_fit": null,
            "object_position": null,
            "order": null,
            "overflow": null,
            "overflow_x": null,
            "overflow_y": null,
            "padding": null,
            "right": null,
            "top": null,
            "visibility": null,
            "width": null
          }
        },
        "4b08b09173214dd3a159e544aa0111ec": {
          "model_module": "@jupyter-widgets/base",
          "model_name": "LayoutModel",
          "model_module_version": "1.2.0",
          "state": {
            "_model_module": "@jupyter-widgets/base",
            "_model_module_version": "1.2.0",
            "_model_name": "LayoutModel",
            "_view_count": null,
            "_view_module": "@jupyter-widgets/base",
            "_view_module_version": "1.2.0",
            "_view_name": "LayoutView",
            "align_content": null,
            "align_items": null,
            "align_self": null,
            "border": null,
            "bottom": null,
            "display": null,
            "flex": null,
            "flex_flow": null,
            "grid_area": null,
            "grid_auto_columns": null,
            "grid_auto_flow": null,
            "grid_auto_rows": null,
            "grid_column": null,
            "grid_gap": null,
            "grid_row": null,
            "grid_template_areas": null,
            "grid_template_columns": null,
            "grid_template_rows": null,
            "height": null,
            "justify_content": null,
            "justify_items": null,
            "left": null,
            "margin": null,
            "max_height": null,
            "max_width": null,
            "min_height": null,
            "min_width": null,
            "object_fit": null,
            "object_position": null,
            "order": null,
            "overflow": null,
            "overflow_x": null,
            "overflow_y": null,
            "padding": null,
            "right": null,
            "top": null,
            "visibility": null,
            "width": null
          }
        },
        "7c464f889cb34620a918a9edb67142c4": {
          "model_module": "@jupyter-widgets/controls",
          "model_name": "DescriptionStyleModel",
          "model_module_version": "1.5.0",
          "state": {
            "_model_module": "@jupyter-widgets/controls",
            "_model_module_version": "1.5.0",
            "_model_name": "DescriptionStyleModel",
            "_view_count": null,
            "_view_module": "@jupyter-widgets/base",
            "_view_module_version": "1.2.0",
            "_view_name": "StyleView",
            "description_width": ""
          }
        },
        "fe8ca390ab0e44578c9318d24dbaa276": {
          "model_module": "@jupyter-widgets/base",
          "model_name": "LayoutModel",
          "model_module_version": "1.2.0",
          "state": {
            "_model_module": "@jupyter-widgets/base",
            "_model_module_version": "1.2.0",
            "_model_name": "LayoutModel",
            "_view_count": null,
            "_view_module": "@jupyter-widgets/base",
            "_view_module_version": "1.2.0",
            "_view_name": "LayoutView",
            "align_content": null,
            "align_items": null,
            "align_self": null,
            "border": null,
            "bottom": null,
            "display": null,
            "flex": null,
            "flex_flow": null,
            "grid_area": null,
            "grid_auto_columns": null,
            "grid_auto_flow": null,
            "grid_auto_rows": null,
            "grid_column": null,
            "grid_gap": null,
            "grid_row": null,
            "grid_template_areas": null,
            "grid_template_columns": null,
            "grid_template_rows": null,
            "height": null,
            "justify_content": null,
            "justify_items": null,
            "left": null,
            "margin": null,
            "max_height": null,
            "max_width": null,
            "min_height": null,
            "min_width": null,
            "object_fit": null,
            "object_position": null,
            "order": null,
            "overflow": null,
            "overflow_x": null,
            "overflow_y": null,
            "padding": null,
            "right": null,
            "top": null,
            "visibility": null,
            "width": null
          }
        },
        "e901cd628bdc4f919a0819c60d2b9996": {
          "model_module": "@jupyter-widgets/controls",
          "model_name": "ProgressStyleModel",
          "model_module_version": "1.5.0",
          "state": {
            "_model_module": "@jupyter-widgets/controls",
            "_model_module_version": "1.5.0",
            "_model_name": "ProgressStyleModel",
            "_view_count": null,
            "_view_module": "@jupyter-widgets/base",
            "_view_module_version": "1.2.0",
            "_view_name": "StyleView",
            "bar_color": null,
            "description_width": ""
          }
        },
        "f8bce916fcf642b49306ce6698a774fb": {
          "model_module": "@jupyter-widgets/base",
          "model_name": "LayoutModel",
          "model_module_version": "1.2.0",
          "state": {
            "_model_module": "@jupyter-widgets/base",
            "_model_module_version": "1.2.0",
            "_model_name": "LayoutModel",
            "_view_count": null,
            "_view_module": "@jupyter-widgets/base",
            "_view_module_version": "1.2.0",
            "_view_name": "LayoutView",
            "align_content": null,
            "align_items": null,
            "align_self": null,
            "border": null,
            "bottom": null,
            "display": null,
            "flex": null,
            "flex_flow": null,
            "grid_area": null,
            "grid_auto_columns": null,
            "grid_auto_flow": null,
            "grid_auto_rows": null,
            "grid_column": null,
            "grid_gap": null,
            "grid_row": null,
            "grid_template_areas": null,
            "grid_template_columns": null,
            "grid_template_rows": null,
            "height": null,
            "justify_content": null,
            "justify_items": null,
            "left": null,
            "margin": null,
            "max_height": null,
            "max_width": null,
            "min_height": null,
            "min_width": null,
            "object_fit": null,
            "object_position": null,
            "order": null,
            "overflow": null,
            "overflow_x": null,
            "overflow_y": null,
            "padding": null,
            "right": null,
            "top": null,
            "visibility": null,
            "width": null
          }
        },
        "3e11f8218a34477097f5ff168b3d5b19": {
          "model_module": "@jupyter-widgets/controls",
          "model_name": "DescriptionStyleModel",
          "model_module_version": "1.5.0",
          "state": {
            "_model_module": "@jupyter-widgets/controls",
            "_model_module_version": "1.5.0",
            "_model_name": "DescriptionStyleModel",
            "_view_count": null,
            "_view_module": "@jupyter-widgets/base",
            "_view_module_version": "1.2.0",
            "_view_name": "StyleView",
            "description_width": ""
          }
        }
      }
    }
  },
  "cells": [
    {
      "cell_type": "markdown",
      "metadata": {
        "id": "view-in-github",
        "colab_type": "text"
      },
      "source": [
        "<a href=\"https://colab.research.google.com/github/xiaowl/colab-notebooks/blob/main/vicuna_13b_1_1.ipynb\" target=\"_parent\"><img src=\"https://colab.research.google.com/assets/colab-badge.svg\" alt=\"Open In Colab\"/></a>"
      ]
    },
    {
      "cell_type": "code",
      "execution_count": 1,
      "metadata": {
        "colab": {
          "base_uri": "https://localhost:8080/"
        },
        "id": "KDsyqdTpTkMB",
        "outputId": "df57b755-981c-46e7-8939-3562f29f0d64"
      },
      "outputs": [
        {
          "output_type": "stream",
          "name": "stdout",
          "text": [
            "Error: Failed to call git rev-parse --git-dir: exit status 128 \n",
            "Git LFS initialized.\n",
            "Cloning into 'vicuna-13b-1.1'...\n",
            "remote: Enumerating objects: 17, done.\u001b[K\n",
            "remote: Counting objects: 100% (17/17), done.\u001b[K\n",
            "remote: Compressing objects: 100% (16/16), done.\u001b[K\n",
            "remote: Total 17 (delta 1), reused 0 (delta 0), pack-reused 0\u001b[K\n",
            "Unpacking objects: 100% (17/17), 4.76 KiB | 1.19 MiB/s, done.\n",
            "Filtering content: 100% (4/4), 4.54 GiB | 22.16 MiB/s, done.\n",
            "Encountered 3 file(s) that may not have been copied correctly on Windows:\n",
            "\tpytorch_model-00003-of-00003.bin\n",
            "\tpytorch_model-00001-of-00003.bin\n",
            "\tpytorch_model-00002-of-00003.bin\n",
            "\n",
            "See: `git lfs help smudge` for more details.\n"
          ]
        }
      ],
      "source": [
        "!git lfs install\n",
        "!git clone https://huggingface.co/eachadea/vicuna-13b-1.1"
      ]
    },
    {
      "cell_type": "code",
      "source": [
        "!pip3 -q install fschat"
      ],
      "metadata": {
        "id": "Z0_m90GXV4_m"
      },
      "execution_count": 6,
      "outputs": []
    },
    {
      "cell_type": "code",
      "source": [
        "import argparse\n",
        "from fastchat.serve import cli\n",
        "\n",
        "def run_main(args=[]):\n",
        "    parser = argparse.ArgumentParser()\n",
        "    parser.add_argument(\"--model-path\", type=str, default=\"facebook/opt-350m\",\n",
        "        help=\"The path to the weights\")\n",
        "    parser.add_argument(\"--device\", type=str, choices=[\"cpu\", \"cuda\", \"mps\"], default=\"cuda\")\n",
        "    parser.add_argument(\"--num-gpus\", type=str, default=\"1\")\n",
        "    parser.add_argument(\"--max-gpu-memory\", type=str, default=\"13GiB\")\n",
        "    parser.add_argument(\"--load-8bit\", action=\"store_true\",\n",
        "        help=\"Use 8-bit quantization.\")\n",
        "    parser.add_argument(\"--conv-template\", type=str, default=None,\n",
        "        help=\"Conversation prompt template.\")\n",
        "    parser.add_argument(\"--temperature\", type=float, default=0.7)\n",
        "    parser.add_argument(\"--max-new-tokens\", type=int, default=512)\n",
        "    parser.add_argument(\"--style\", type=str, default=\"simple\",\n",
        "                        choices=[\"simple\", \"rich\"], help=\"Display style.\")\n",
        "    parser.add_argument(\"--debug\", action=\"store_true\")\n",
        "    args = parser.parse_args(args)\n",
        "    cli.main(args)"
      ],
      "metadata": {
        "id": "1CBCC30iV9ea"
      },
      "execution_count": 7,
      "outputs": []
    },
    {
      "cell_type": "code",
      "source": [
        "run_main([\"--model-path\", \"./vicuna-13b-1.1\"])"
      ],
      "metadata": {
        "colab": {
          "base_uri": "https://localhost:8080/",
          "height": 259,
          "referenced_widgets": [
            "b3fd98b9a4b34008b9ab0f1d8ec45038",
            "ed66d4cb287f4f42867182b92eb4afa4",
            "f4b23ac4ee4049e887483d866670556d",
            "f658ee0ac50b461cb48cdce21d2ca6f6",
            "0e07d8a6d75d44bbaf7452db2195c765",
            "4b08b09173214dd3a159e544aa0111ec",
            "7c464f889cb34620a918a9edb67142c4",
            "fe8ca390ab0e44578c9318d24dbaa276",
            "e901cd628bdc4f919a0819c60d2b9996",
            "f8bce916fcf642b49306ce6698a774fb",
            "3e11f8218a34477097f5ff168b3d5b19"
          ]
        },
        "id": "DzsttGeHWQJg",
        "outputId": "3aabbf20-270e-47e2-af87-b647894c58e3"
      },
      "execution_count": null,
      "outputs": [
        {
          "output_type": "display_data",
          "data": {
            "text/plain": [
              "Loading checkpoint shards:   0%|          | 0/3 [00:00<?, ?it/s]"
            ],
            "application/vnd.jupyter.widget-view+json": {
              "version_major": 2,
              "version_minor": 0,
              "model_id": "b3fd98b9a4b34008b9ab0f1d8ec45038"
            }
          },
          "metadata": {}
        },
        {
          "output_type": "stream",
          "name": "stdout",
          "text": [
            "USER: say \"hello world\" in 10 most widly spoken languages\n",
            "ASSISTANT: 1. English: \"Hello world\"\n",
            "2. Spanish: \"Hola mundo\"\n",
            "3. Chinese: \"你好世界\" (nǐ hǎo shì jiè)\n",
            "4. French: \"Bonjour le monde\"\n",
            "5. German: \"Hallo Welt\"\n",
            "6. Arabic: \"مرحبا ورld\" (Marhaba world)\n",
            "7. Italian: \"Ciao mondo\"\n",
            "8. Portuguese: \"Olá mundo\"\n",
            "9. Russian: \"Здравствуйте, мир\" (Zdravstvuyte, mir)\n",
            "10. Japanese: \"こんにちは、世界\" (Konnichiwa, sekai)\n"
          ]
        }
      ]
    }
  ]
}